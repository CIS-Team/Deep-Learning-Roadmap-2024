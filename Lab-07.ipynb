{
 "cells": [
  {
   "cell_type": "markdown",
   "metadata": {},
   "source": [
    "# Forward and Back Propagation"
   ]
  },
  {
   "cell_type": "markdown",
   "metadata": {},
   "source": [
    "![](https://machinelearningknowledge.ai/wp-content/uploads/2019/10/Backpropagation.gif)\n",
    "</br>\n",
    "Source: machinelearningknowledge.ai"
   ]
  },
  {
   "cell_type": "markdown",
   "metadata": {},
   "source": [
    "# 1. Forward Propagation\n",
    "\n",
    "> The process of computing the output of a neural network given an input. It involves passing the input through the network's layers, applying the activation functions, and calculating the final output.\n",
    "\n",
    "The steps involved in forward propagation are as follows:\n",
    "\n",
    "1. **Initialize the input values**: The input values are the features or variables that are fed into the neural network. These values are typically represented as a vector or matrix.\n",
    "\n",
    "2. **Multiply the input values by the weights of the first layer and add the biases**: Each layer in the neural network has weights and biases associated with it. The weights determine the strength of the connections between the neurons, while the biases provide an additional constant term. In forward propagation, the input values are multiplied by the weights of the first layer and the biases are added.\n",
    "\n",
    "3. **Apply the activation function to the result**: After multiplying the input values by the weights and adding the biases, the result is passed through an activation function. The activation function introduces non-linearity into the network and helps in capturing complex patterns in the data.\n",
    "\n",
    "4. **Repeat steps 2 and 3 for each subsequent layer until the final output is obtained**: The process of multiplying the input values by the weights, adding the biases, and applying the activation function is repeated for each subsequent layer in the neural network. This allows the network to learn and extract higher-level features from the input data.\n",
    "\n",
    "The output obtained from forward propagation is then used to calculate the loss or error of the network.\n",
    "\n"
   ]
  },
  {
   "cell_type": "code",
   "execution_count": null,
   "metadata": {},
   "outputs": [],
   "source": [
    "import numpy as np\n",
    "import matplotlib.pyplot as plt"
   ]
  },
  {
   "cell_type": "code",
   "execution_count": null,
   "metadata": {},
   "outputs": [],
   "source": [
    "def sigmoid(x):\n",
    "    \"\"\"\n",
    "    Sigmoid function:\n",
    "    - Returns the sigmoid activation of x.\n",
    "    \"\"\"\n",
    "    return 1 / (1 + np.exp(-x))\n",
    "\n",
    "def forward_propagation(X, parameters):\n",
    "    \"\"\"\n",
    "    Perform forward propagation for a neural network.\n",
    "    \n",
    "    Arguments:\n",
    "    X -- input data, numpy array of shape (input_size, m)\n",
    "    parameters -- dictionary containing the parameters of the neural network\n",
    "    \n",
    "    Returns:\n",
    "    A2 -- output of the neural network's forward propagation\n",
    "    cache -- dictionary containing the intermediate values needed for backward propagation\n",
    "    \"\"\"\n",
    "    # Retrieve parameters from the dictionary\n",
    "    W1 = parameters['W1'] # weights matrix of first layer\n",
    "    b1 = parameters['b1'] # bias vector of first layer\n",
    "    W2 = parameters['W2'] # weights matrix of second layer\n",
    "    b2 = parameters['b2'] # bias vector of second layer\n",
    "    \n",
    "    # Implement forward propagation\n",
    "    Z1 = np.dot(W1, X) + b1 \n",
    "    A1 = np.tanh(Z1) \n",
    "    Z2 = np.dot(W2, A1) + b2 \n",
    "    A2 = sigmoid(Z2)\n",
    "    \n",
    "    # Cache intermediate values for backward propagation\n",
    "    cache = {\n",
    "        'Z1': Z1,\n",
    "        'A1': A1,\n",
    "        'Z2': Z2,\n",
    "        'A2': A2\n",
    "    }\n",
    "    \n",
    "    return A2, cache"
   ]
  },
  {
   "cell_type": "markdown",
   "metadata": {},
   "source": [
    "# 2. Backward Propagation\n",
    "\n",
    "> Also known as backpropagation, is the process of updating the weights and biases of a neural network based on the calculated error. It involves propagating the error backwards through the network and adjusting the parameters to minimize the error.\n",
    "\n",
    "The steps involved in backward propagation are as follows:\n",
    "\n",
    "1. **Calculate the gradient of the loss function with respect to the output**: The loss function measures the discrepancy between the predicted output of the neural network and the actual output. The gradient of the loss function with respect to the output is calculated to determine the direction and magnitude of the error.\n",
    "\n",
    "2. **Propagate the gradient backwards through the layers, calculating the gradients of the loss function with respect to the weights and biases of each layer**: The gradient of the loss function is propagated backwards through the layers of the neural network. This involves calculating the gradients of the loss function with respect to the weights and biases of each layer using the chain rule of calculus.\n",
    "\n",
    "3. **Update the weights and biases of each layer using the calculated gradients and a learning rate**: The gradients calculated in the previous step are used to update the weights and biases of each layer. The learning rate determines the step size of the parameter updates and helps in controlling the convergence of the network.\n",
    "\n",
    "By iteratively performing forward and backward propagation, a neural network can learn to improve its predictions and minimize the error.\n"
   ]
  },
  {
   "cell_type": "code",
   "execution_count": 5,
   "metadata": {},
   "outputs": [],
   "source": [
    "def backward_propagation(X, Y, cache, parameters, learning_rate):\n",
    "    \"\"\"\n",
    "    Perform backward propagation for a neural network and update the parameters.\n",
    "    \n",
    "    Arguments:\n",
    "    X -- input data, numpy array of shape (input_size, m)\n",
    "    Y -- true labels, numpy array of shape (output_size, m)\n",
    "    cache -- dictionary containing the intermediate values from forward propagation\n",
    "    parameters -- dictionary containing the parameters of the neural network\n",
    "    learning_rate -- learning rate for parameter updates\n",
    "    \n",
    "    Returns:\n",
    "    parameters -- updated parameters after backward propagation\n",
    "    \"\"\"\n",
    "    # Retrieve parameters from the dictionary\n",
    "    W1 = parameters['W1']\n",
    "    b1 = parameters['b1']\n",
    "    W2 = parameters['W2']\n",
    "    b2 = parameters['b2']\n",
    "    \n",
    "    # Retrieve intermediate values from the cache\n",
    "    A1 = cache['A1']\n",
    "    A2 = cache['A2']\n",
    "\n",
    "    m = X.shape[1]  # Get the number of training examples\n",
    "    \n",
    "    # Calculate loss function gradients using chain rule\n",
    "    dZ2 = A2 - Y # derivative of the loss function with respect to Z2\n",
    "    dW2 = (1 / m) * np.dot(dZ2, A1.T) # derivative of the loss function with respect to W2\n",
    "    db2 = (1 / m) * np.sum(dZ2, axis=1, keepdims=True) # derivative of the loss function with respect to b2\n",
    "    dZ1 = np.dot(W2.T, dZ2) * (1 - np.power(A1, 2)) # derivative of the loss function with respect to Z1\n",
    "    dW1 = (1 / m) * np.dot(dZ1, X.T) # derivative of the loss function with respect to W1\n",
    "    db1 = (1 / m) * np.sum(dZ1, axis=1, keepdims=True) # derivative of the loss function with respect to b1\n",
    "    \n",
    "\n",
    "    # Update parameters using gradient descent optimization\n",
    "    W1 -= learning_rate * dW1\n",
    "    b1 -= learning_rate * db1\n",
    "    W2 -= learning_rate * dW2\n",
    "    b2 -= learning_rate * db2\n",
    "    \n",
    "    # Update the parameters dictionary\n",
    "    parameters = {\n",
    "        'W1': W1,\n",
    "        'b1': b1,\n",
    "        'W2': W2,\n",
    "        'b2': b2\n",
    "    }\n",
    "    \n",
    "    return parameters"
   ]
  },
  {
   "cell_type": "code",
   "execution_count": null,
   "metadata": {},
   "outputs": [],
   "source": [
    "def compute_cost(A2, Y):\n",
    "    \"\"\"\n",
    "    Compute the mean squared error cost after a number of iterations.\n",
    "    \n",
    "    Arguments:\n",
    "    A2 -- The sigmoid output of the second activation, of shape (1, number of examples)\n",
    "    Y -- \"true\" labels vector of shape (1, number of examples)\n",
    "    \n",
    "    Returns:\n",
    "    cost -- mean squared error cost\n",
    "    \"\"\"\n",
    "    \n",
    "    m = Y.shape[1]  # number of examples\n",
    "\n",
    "    # Compute the mean squared error\n",
    "    cost = (1./m) * np.sum((A2 - Y)**2)\n",
    "\n",
    "    return cost\n"
   ]
  },
  {
   "cell_type": "markdown",
   "metadata": {},
   "source": [
    "### Now, let's perform forward and back propagation in a simple neural network architecture.\n",
    "\n",
    "![alt text](Misc/simplenn.png)\n",
    "\n",
    "Input Layer: This is the layer where the network takes in the inputs. The number of neurons in this layer is equal to the number of features in your input data.\n",
    "\n",
    "Hidden Layer: This is the layer where the network learns to represent the input data. The number of neurons in this layer can be chosen arbitrarily, but it's often chosen to be a number between the number of input neurons and the number of output neurons.\n",
    "\n",
    "Output Layer: This is the layer where the network outputs its predictions. The number of neurons in this layer is equal to the number of classes you're trying to predict (for classification tasks) or 1 (for regression tasks).\n",
    "\n"
   ]
  },
  {
   "cell_type": "code",
   "execution_count": 14,
   "metadata": {},
   "outputs": [
    {
     "data": {
      "image/png": "[encoded data removed]",
      "text/plain": [
       "<Figure size 640x480 with 1 Axes>"
      ]
     },
     "metadata": {},
     "output_type": "display_data"
    }
   ],
   "source": [
    "# Initialize random parameters for a neural network with 2 input units, 3 hidden units, and 1 output unit\n",
    "np.random.seed(0)\n",
    "parameters = {\n",
    "    'W1': np.random.randn(3, 2),  # 3x2 matrix for weights of the first layer (3 connections for each of the 2 neurons in the input layer)\n",
    "    'b1': np.random.randn(3, 1),  # 3x1 matrix for biases of the first layer (3 neurons in the hidden layer)\n",
    "    'W2': np.random.randn(1, 3),  # 1x3 matrix for weights of the second layer (1 connection for each of the 3 neurons in the hidden layer)\n",
    "    'b2': np.random.randn(1, 1)   # 1x1 matrix for biases of the second layer (1 neuron in the output layer)\n",
    "}\n",
    "\n",
    "# Dummy input data\n",
    "X = np.array([[1, 2], [3, 4]]).T  # 2x2 matrix, transpose to match the shape (input_size, m, where m is the number of examples)\n",
    "\n",
    "# Dummy true labels\n",
    "Y = np.array([[1, 0]])  # 1x2 matrix for true labels\n",
    "\n",
    "# List to store costs\n",
    "costs = []\n",
    "\n",
    "# Number of iterations for training\n",
    "num_iterations = 500\n",
    "\n",
    "# Perform forward and backward propagation for a number of iterations\n",
    "for i in range(num_iterations):\n",
    "    A2, cache = forward_propagation(X, parameters)\n",
    "    parameters = backward_propagation(X, Y, cache, parameters, learning_rate=0.01)\n",
    "    cost = compute_cost(A2, Y)\n",
    "    costs.append(cost)\n",
    "\n",
    "# Plot the cost over time\n",
    "plt.plot(costs)\n",
    "plt.xlabel('Iteration')\n",
    "plt.ylabel('Cost')\n",
    "plt.title('Cost over time')\n",
    "plt.show()"
   ]
  },
  {
   "cell_type": "markdown",
   "metadata": {},
   "source": [
    "# 3. Final Thoughts"
   ]
  },
  {
   "cell_type": "markdown",
   "metadata": {},
   "source": [
    "## 3.1. Loss\n",
    "\n",
    "In the context of neural networks, loss refers to a measure of how well the network is performing on a given task. It quantifies the `discrepancy between the predicted output of the network and the actual output`. The goal of training a neural network is to minimize this loss, which indicates that the network is making accurate predictions.\n",
    "\n",
    "There are various types of loss functions that can be used depending on the task at hand. For example, `in classification tasks, the cross-entropy loss is commonly used`, while `in regression tasks, the mean squared error (MSE) loss is often used`. The choice of loss function depends on the specific problem and the desired behavior of the network.\n"
   ]
  },
  {
   "cell_type": "markdown",
   "metadata": {},
   "source": [
    "## 3.2. Gradient\n",
    "The gradient is a mathematical concept that represents the `rate of change of a function at a particular point`. In the context of neural networks, the gradient is used to determine the `direction and magnitude of the error` during the training process.\n",
    "\n",
    "During training, the network calculates the gradient of the loss function with respect to the network's parameters, such as the weights and biases. This gradient provides information about `how the loss function changes as the parameters are adjusted`. By following the gradient, the network can update its parameters in a way that reduces the loss and improves its performance."
   ]
  },
  {
   "cell_type": "markdown",
   "metadata": {},
   "source": [
    "## 3.3. Optimizers\n",
    "Responsible for updating the weights and biases of the neural network during training. It determines how the model learns from the training data and adjusts the parameters. The goal of an optimizer is to minimize the loss (or cost) by adjusting the parameters of the model.\n",
    "\n",
    "> Note: The loss function deals with a single data instance, whereas the cost function measures the model's error on a group of objects (it is usually the average of the loss functions for each training example in the dataset)."
   ]
  },
  {
   "cell_type": "markdown",
   "metadata": {},
   "source": [
    "### *3.3.1. How Optimizers Work*\n",
    "\n",
    "Optimizers work by iteratively updating the parameters (weights and biases) of the neural network based on the gradients of the loss function with respect to these parameters. The gradients indicate the direction of steepest ascent or descent in the loss landscape. By following the `negative gradient direction`, the optimizer can find the optimal values for the parameters that minimize the loss.\n",
    "\n",
    "The update rule for the parameters is typically based on the gradient descent algorithm. The general steps of the gradient descent algorithm are as follows:\n",
    "\n",
    "1. **Initialization**: The optimizer initializes the weights and biases of the neural network with small random values.\n",
    "\n",
    "2. **Forward Pass**: The optimizer performs a forward pass through the network to compute the predicted outputs.\n",
    "\n",
    "3. **Loss Calculation**: The optimizer calculates the loss between the predicted outputs and the true labels using a loss function.\n",
    "\n",
    "4. **Backward Pass**: The optimizer performs a backward pass through the network to compute the gradients of the loss with respect to the parameters.\n",
    "\n",
    "5. **Parameter Update**: The optimizer updates the parameters using the gradients and a learning rate. The learning rate determines the step size of the parameter update.\n",
    "\n",
    "6. **Repeat**: Steps 2-5 are repeated for a specified number of iterations or until convergence."
   ]
  },
  {
   "cell_type": "markdown",
   "metadata": {},
   "source": [
    "![](https://machinelearningknowledge.ai/wp-content/uploads/2019/10/Backpropagation.gif)\n",
    "</br>\n",
    "Source: machinelearningknowledge.ai"
   ]
  },
  {
   "cell_type": "markdown",
   "metadata": {},
   "source": [
    "### *3.3.2. Different types of Optimizers*\n",
    "\n",
    "There are various types of optimizers available, each with its own advantages and disadvantages. Here are some commonly used optimizers:\n",
    "\n",
    "1. **Stochastic Gradient Descent (SGD)**: SGD is a basic optimization algorithm that updates the parameters based on the gradients of a randomly selected subset of training samples. It is computationally efficient but can be sensitive to the learning rate.\n",
    "\n",
    "2. **Adam**: Adam is an adaptive optimization algorithm that combines the advantages of both AdaGrad and RMSProp. It adapts the learning rate for each parameter based on the estimates of the first and second moments of the gradients. Adam is widely used and performs well in practice.\n",
    "\n",
    "3. **Adagrad**: Adagrad adapts the learning rate for each parameter based on the historical gradients. It performs larger updates for infrequent parameters and smaller updates for frequent parameters. Adagrad is suitable for sparse data and can converge quickly, but its learning rate can become too small over time.\n",
    "\n",
    "4. **RMSProp**: RMSProp is an adaptive optimization algorithm that uses a moving average of the squared gradients to adjust the learning rate. It reduces the learning rate for parameters with large gradients and increases it for parameters with small gradients. RMSProp is effective in handling non-stationary objectives.\n",
    "\n",
    "5. **Momentum**: Momentum adds a fraction of the previous parameter update to the current update. It helps accelerate convergence and overcome local minima. Momentum can be seen as a ball rolling down a hill, gaining momentum as it goes.\n",
    "\n",
    "6. **Nesterov Accelerated Gradient (NAG)**: NAG is an extension of momentum that calculates the gradient at a point slightly ahead in the direction of the momentum. It improves the convergence speed by reducing the oscillations.\n",
    "\n",
    "These are just a few examples of optimizers commonly used in neural network training. Each optimizer has its own characteristics and is suitable for different types of problems. It is important to experiment with different optimizers and tune their hyperparameters to achieve the best performance for a specific task.\n"
   ]
  }
 ],
 "metadata": {
  "kernelspec": {
   "display_name": "ai-env",
   "language": "python",
   "name": "python3"
  },
  "language_info": {
   "name": "python",
   "version": "3.12.3"
  }
 },
 "nbformat": 4,
 "nbformat_minor": 2
}
